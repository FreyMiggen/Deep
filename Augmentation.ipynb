{
 "cells": [
  {
   "cell_type": "markdown",
   "id": "d80fa3a5-7be9-4be6-a8ec-2c3f92ae8246",
   "metadata": {},
   "source": [
    "# Data Augmentation\n",
    "In the previous lessons, you saw that having a high training accuracy does not automatically mean having a good predictive model. It can still perform poorly on new data because it has overfit to the training set. In this lab, you will see how to avoid that using data augmentation. This increases the amount of training data by modifying the existing training data's properties. For example, in image data, you can apply different preprocessing techniques such as rotate, flip, shear, or zoom on your existing images so you can simulate other data that the model should also learn from. This way, the model would see more variety in the images during training so it will infer better on new, previously unseen data.\n",
    "\n",
    "Let's see how you can do this in the following sections."
   ]
  },
  {
   "cell_type": "markdown",
   "id": "a02bf3e6-3297-4eb3-a819-b43844b38a9e",
   "metadata": {},
   "source": [
    "## Baseline Performance \n",
    "You will start with a model that's very effective at learning Cats vs Dogs without data augmentation. It's similar to the previous models that you have used. Note that there are four convolutional layers with 32, 64, 128 and 128 convolutions respectively. The code is basically the same from the previous lab so we won't go over the details step by step since you've already seen it before.\n",
    "\n",
    "You will train only for 20 epochs to save time but feel free to increase this if you want."
   ]
  },
  {
   "cell_type": "code",
   "execution_count": 1,
   "id": "fd1b42eb-9685-48fa-a450-1d9dfba7a75f",
   "metadata": {},
   "outputs": [],
   "source": [
    "import os\n",
    "\n",
    "base_dir = 'cats_and_dogs_filtered'\n",
    "train_dir = os.path.join(base_dir, 'train')\n",
    "validation_dir = os.path.join(base_dir, 'validation')\n",
    "\n",
    "# Directory with training cat/dog pictures\n",
    "train_cats_dir = os.path.join(train_dir, 'cats')\n",
    "train_dogs_dir = os.path.join(train_dir, 'dogs')\n",
    "\n",
    "# Directory with validation cat/dog pictures\n",
    "validation_cats_dir = os.path.join(validation_dir, 'cats')\n",
    "validation_dogs_dir = os.path.join(validation_dir, 'dogs')"
   ]
  },
  {
   "cell_type": "markdown",
   "id": "d77397b7-4b37-4b58-bbd0-09d4fdf370eb",
   "metadata": {},
   "source": [
    "You will place the model creation inside a function so you can easily initialize a new one when you use data augmentation later in this notebook."
   ]
  },
  {
   "cell_type": "code",
   "execution_count": 2,
   "id": "5577eda8-1cf4-4f67-b4f3-bbd3128c0894",
   "metadata": {},
   "outputs": [],
   "source": [
    "import tensorflow as tf\n",
    "from tensorflow.keras.optimizers import RMSprop\n",
    "\n",
    "def create_model():\n",
    "  '''Creates a CNN with 4 convolutional layers'''\n",
    "  model = tf.keras.models.Sequential([\n",
    "      tf.keras.layers.Conv2D(32, (3,3), activation='relu', input_shape=(150, 150, 3)),\n",
    "      tf.keras.layers.MaxPooling2D(2, 2),\n",
    "      tf.keras.layers.Conv2D(64, (3,3), activation='relu'),\n",
    "      tf.keras.layers.MaxPooling2D(2,2),\n",
    "      tf.keras.layers.Conv2D(128, (3,3), activation='relu'),\n",
    "      tf.keras.layers.MaxPooling2D(2,2),\n",
    "      tf.keras.layers.Conv2D(128, (3,3), activation='relu'),\n",
    "      tf.keras.layers.MaxPooling2D(2,2),\n",
    "      tf.keras.layers.Flatten(),\n",
    "      tf.keras.layers.Dense(512, activation='relu'),\n",
    "      tf.keras.layers.Dense(1, activation='sigmoid')\n",
    "  ])\n",
    "\n",
    "  model.compile(loss='binary_crossentropy',\n",
    "                optimizer=RMSprop(learning_rate=1e-4),\n",
    "                metrics=['accuracy'])\n",
    "  \n",
    "  return model"
   ]
  },
  {
   "cell_type": "code",
   "execution_count": 3,
   "id": "117f4e54-8930-4cad-8a0c-73d625831198",
   "metadata": {},
   "outputs": [
    {
     "name": "stdout",
     "output_type": "stream",
     "text": [
      "Found 2000 images belonging to 2 classes.\n",
      "Found 1000 images belonging to 2 classes.\n"
     ]
    }
   ],
   "source": [
    "from tensorflow.keras.preprocessing.image import ImageDataGenerator\n",
    "\n",
    "# All images will be rescaled by 1./255\n",
    "train_datagen = ImageDataGenerator(rescale=1./255)\n",
    "test_datagen = ImageDataGenerator(rescale=1./255)\n",
    "\n",
    "# Flow training images in batches of 20 using train_datagen generator\n",
    "train_generator = train_datagen.flow_from_directory(\n",
    "        train_dir,  # This is the source directory for training images\n",
    "        target_size=(150, 150),  # All images will be resized to 150x150\n",
    "        batch_size=20,\n",
    "        # Since we use binary_crossentropy loss, we need binary labels\n",
    "        class_mode='binary')\n",
    "\n",
    "# Flow validation images in batches of 20 using test_datagen generator\n",
    "validation_generator = test_datagen.flow_from_directory(\n",
    "        validation_dir,\n",
    "        target_size=(150, 150),\n",
    "        batch_size=20,\n",
    "        class_mode='binary')"
   ]
  },
  {
   "cell_type": "code",
   "execution_count": 4,
   "id": "f73e8b68-7419-42dc-b7db-bde6b086dc3a",
   "metadata": {},
   "outputs": [
    {
     "name": "stdout",
     "output_type": "stream",
     "text": [
      "Epoch 1/20\n",
      "100/100 - 39s - loss: 0.6854 - accuracy: 0.5400 - val_loss: 0.6644 - val_accuracy: 0.6420 - 39s/epoch - 392ms/step\n",
      "Epoch 2/20\n",
      "100/100 - 34s - loss: 0.6539 - accuracy: 0.6190 - val_loss: 0.6331 - val_accuracy: 0.6780 - 34s/epoch - 342ms/step\n",
      "Epoch 3/20\n",
      "100/100 - 33s - loss: 0.5982 - accuracy: 0.6845 - val_loss: 0.6047 - val_accuracy: 0.6950 - 33s/epoch - 334ms/step\n",
      "Epoch 4/20\n",
      "100/100 - 33s - loss: 0.5612 - accuracy: 0.7005 - val_loss: 0.5677 - val_accuracy: 0.7170 - 33s/epoch - 334ms/step\n",
      "Epoch 5/20\n",
      "100/100 - 35s - loss: 0.5207 - accuracy: 0.7350 - val_loss: 0.5787 - val_accuracy: 0.7030 - 35s/epoch - 351ms/step\n",
      "Epoch 6/20\n",
      "100/100 - 33s - loss: 0.4910 - accuracy: 0.7725 - val_loss: 0.5376 - val_accuracy: 0.7360 - 33s/epoch - 331ms/step\n",
      "Epoch 7/20\n",
      "100/100 - 34s - loss: 0.4607 - accuracy: 0.7805 - val_loss: 0.5572 - val_accuracy: 0.7340 - 34s/epoch - 340ms/step\n",
      "Epoch 8/20\n",
      "100/100 - 34s - loss: 0.4423 - accuracy: 0.7920 - val_loss: 0.5348 - val_accuracy: 0.7340 - 34s/epoch - 342ms/step\n",
      "Epoch 9/20\n",
      "100/100 - 34s - loss: 0.4136 - accuracy: 0.8050 - val_loss: 0.5456 - val_accuracy: 0.7290 - 34s/epoch - 340ms/step\n",
      "Epoch 10/20\n",
      "100/100 - 36s - loss: 0.3866 - accuracy: 0.8295 - val_loss: 0.5604 - val_accuracy: 0.7280 - 36s/epoch - 357ms/step\n",
      "Epoch 11/20\n",
      "100/100 - 38s - loss: 0.3654 - accuracy: 0.8395 - val_loss: 0.5099 - val_accuracy: 0.7660 - 38s/epoch - 377ms/step\n",
      "Epoch 12/20\n",
      "100/100 - 34s - loss: 0.3394 - accuracy: 0.8515 - val_loss: 0.5134 - val_accuracy: 0.7660 - 34s/epoch - 336ms/step\n",
      "Epoch 13/20\n",
      "100/100 - 33s - loss: 0.3189 - accuracy: 0.8650 - val_loss: 0.5314 - val_accuracy: 0.7490 - 33s/epoch - 334ms/step\n",
      "Epoch 14/20\n",
      "100/100 - 33s - loss: 0.3011 - accuracy: 0.8720 - val_loss: 0.5290 - val_accuracy: 0.7560 - 33s/epoch - 334ms/step\n",
      "Epoch 15/20\n",
      "100/100 - 33s - loss: 0.2883 - accuracy: 0.8795 - val_loss: 0.5128 - val_accuracy: 0.7680 - 33s/epoch - 335ms/step\n",
      "Epoch 16/20\n",
      "100/100 - 35s - loss: 0.2537 - accuracy: 0.9010 - val_loss: 0.5283 - val_accuracy: 0.7610 - 35s/epoch - 355ms/step\n",
      "Epoch 17/20\n",
      "100/100 - 34s - loss: 0.2383 - accuracy: 0.9110 - val_loss: 0.5420 - val_accuracy: 0.7610 - 34s/epoch - 335ms/step\n",
      "Epoch 18/20\n",
      "100/100 - 33s - loss: 0.2153 - accuracy: 0.9200 - val_loss: 0.5402 - val_accuracy: 0.7710 - 33s/epoch - 334ms/step\n",
      "Epoch 19/20\n",
      "100/100 - 33s - loss: 0.1968 - accuracy: 0.9265 - val_loss: 0.5541 - val_accuracy: 0.7690 - 33s/epoch - 334ms/step\n",
      "Epoch 20/20\n",
      "100/100 - 35s - loss: 0.1810 - accuracy: 0.9375 - val_loss: 0.6442 - val_accuracy: 0.7420 - 35s/epoch - 349ms/step\n"
     ]
    }
   ],
   "source": [
    "# Constant for epochs\n",
    "EPOCHS = 20\n",
    "\n",
    "# Create a new model\n",
    "model = create_model()\n",
    "\n",
    "# Train the model\n",
    "history = model.fit(\n",
    "      train_generator,\n",
    "      steps_per_epoch=100,  # 2000 images = batch_size * steps\n",
    "      epochs=EPOCHS,\n",
    "      validation_data=validation_generator,\n",
    "      validation_steps=50,  # 1000 images = batch_size * steps\n",
    "      verbose=2)"
   ]
  },
  {
   "cell_type": "markdown",
   "id": "a033325c-cb81-461b-854e-e8e52d00c251",
   "metadata": {},
   "source": [
    "You will then visualize the loss and accuracy with respect to the training and validation set. You will again use a convenience function so it can be reused later. This function accepts a History object which contains the results of the fit() method you ran above."
   ]
  },
  {
   "cell_type": "code",
   "execution_count": 15,
   "id": "bf75d982-7100-4c09-8add-7fd89dfad774",
   "metadata": {},
   "outputs": [],
   "source": [
    "import matplotlib.pyplot as plt\n",
    "\n",
    "def plot_loss_acc(history):\n",
    "    \n",
    "  '''Plots the training and validation loss and accuracy from a history object'''\n",
    "  acc = history.history['accuracy']\n",
    "  val_acc = history.history['val_accuracy']\n",
    "  loss = history.history['loss']\n",
    "  val_loss = history.history['val_loss']\n",
    "\n",
    "  epochs = range(len(acc))\n",
    "\n",
    "  plt.plot(epochs, acc, 'bo', label='Training accuracy')\n",
    "  plt.plot(epochs, val_acc, 'b', label='Validation accuracy')\n",
    "  plt.title('Training and validation accuracy')\n",
    "  plt.legend()\n",
    "\n",
    "  plt.figure()\n",
    "\n",
    "  plt.plot(epochs, loss, 'bo', label='Training Loss')\n",
    "  plt.plot(epochs, val_loss, 'r', label='Validation Loss')\n",
    "  plt.title('Training and validation loss')\n",
    "  plt.legend()\n",
    "\n",
    "  plt.show()"
   ]
  },
  {
   "cell_type": "code",
   "execution_count": 11,
   "id": "496f5a3e-6604-4f55-829a-5fef7c526618",
   "metadata": {},
   "outputs": [
    {
     "data": {
      "image/png": "[encoded data removed]",
      "text/plain": [
       "<Figure size 432x288 with 1 Axes>"
      ]
     },
     "metadata": {
      "needs_background": "light"
     },
     "output_type": "display_data"
    },
    {
     "data": {
      "image/png": "[encoded data removed]",
      "text/plain": [
       "<Figure size 432x288 with 1 Axes>"
      ]
     },
     "metadata": {
      "needs_background": "light"
     },
     "output_type": "display_data"
    }
   ],
   "source": [
    "# Plot training results\n",
    "plot_loss_acc(history)"
   ]
  },
  {
   "cell_type": "markdown",
   "id": "dc8f0ad1-2e30-4c8c-a730-68ef9e466555",
   "metadata": {},
   "source": [
    "## Data augmentation"
   ]
  },
  {
   "cell_type": "markdown",
   "id": "51ff3f87-c18d-4f97-a041-221313b2c355",
   "metadata": {},
   "source": [
    "One simple method to avoid overfitting is to augment the images a bit. If you think about it, most pictures of a cat are very similar -- the ears are at the top, then the eyes, then the mouth etc. Things like the distance between the eyes and ears will always be quite similar too.\n",
    "\n",
    "What if you tweak with the images a bit -- rotate the image, squash it, etc. That's what image augementation is all about. And there's an API that makes it easy!\n",
    "\n",
    "Take a look at the ImageDataGenerator which you have been using to rescale the image. There are other properties on it that you can use to augment the image.\n",
    "\n",
    "#Updated to do image augmentation\n",
    "train_datagen = ImageDataGenerator(\n",
    "\n",
    "    rotation_range=40,\n",
    "      \n",
    "      width_shift_range=0.2,\n",
    "      \n",
    "      height_shift_range=0.2,\n",
    "      \n",
    "      shear_range=0.2,\n",
    "      \n",
    "      zoom_range=0.2,\n",
    "      \n",
    "      horizontal_flip=True,\n",
    "      \n",
    "      fill_mode='nearest')   \n",
    "These are just a few of the options available. Let's quickly go over it:\n",
    "\n",
    "- `rotation_range` is a value in degrees (0–180) within which to randomly rotate pictures.\n",
    "- `width_shift` and `height_shift` are ranges (as a fraction of total width or height) within which to randomly translate pictures vertically or horizontally.\n",
    "- `shear_range` is for randomly applying shearing transformations.\n",
    "- `zoom_range` is for randomly zooming inside pictures.\n",
    "- `horizontal_flip` is for randomly flipping half of the images horizontally. This is relevant when there are no assumptions of horizontal assymmetry (e.g. real-world pictures).\n",
    "- `fill_mode` is the strategy used for filling in newly created pixels, which can appear after a rotation or a width/height shift.\n",
    "Run the next cells to see the impact on the results. The code is similar to the baseline but the definition of train_datagen has been updated to use the parameters described above."
   ]
  },
  {
   "cell_type": "code",
   "execution_count": 13,
   "id": "00a86b64-f940-4028-89af-bfc7da805978",
   "metadata": {},
   "outputs": [
    {
     "name": "stdout",
     "output_type": "stream",
     "text": [
      "Found 2000 images belonging to 2 classes.\n",
      "Found 1000 images belonging to 2 classes.\n",
      "Epoch 1/20\n",
      "100/100 [==============================] - 34s 338ms/step - loss: 0.6945 - accuracy: 0.5220 - val_loss: 0.6867 - val_accuracy: 0.5440\n",
      "Epoch 2/20\n",
      "100/100 [==============================] - 34s 339ms/step - loss: 0.6846 - accuracy: 0.5525 - val_loss: 0.6683 - val_accuracy: 0.6040\n",
      "Epoch 3/20\n",
      "100/100 [==============================] - 33s 328ms/step - loss: 0.6667 - accuracy: 0.5835 - val_loss: 0.6374 - val_accuracy: 0.6580\n",
      "Epoch 4/20\n",
      "100/100 [==============================] - 33s 327ms/step - loss: 0.6572 - accuracy: 0.6135 - val_loss: 0.7189 - val_accuracy: 0.5200\n",
      "Epoch 5/20\n",
      "100/100 [==============================] - 34s 339ms/step - loss: 0.6336 - accuracy: 0.6470 - val_loss: 0.6329 - val_accuracy: 0.6090\n",
      "Epoch 6/20\n",
      "100/100 [==============================] - 33s 327ms/step - loss: 0.6242 - accuracy: 0.6450 - val_loss: 0.5834 - val_accuracy: 0.6970\n",
      "Epoch 7/20\n",
      "100/100 [==============================] - 33s 327ms/step - loss: 0.5974 - accuracy: 0.6890 - val_loss: 0.5600 - val_accuracy: 0.7090\n",
      "Epoch 8/20\n",
      "100/100 [==============================] - 33s 327ms/step - loss: 0.6015 - accuracy: 0.6660 - val_loss: 0.5549 - val_accuracy: 0.7070\n",
      "Epoch 9/20\n",
      "100/100 [==============================] - 33s 329ms/step - loss: 0.6031 - accuracy: 0.6725 - val_loss: 0.5592 - val_accuracy: 0.7030\n",
      "Epoch 10/20\n",
      "100/100 [==============================] - 33s 329ms/step - loss: 0.5913 - accuracy: 0.6890 - val_loss: 0.5435 - val_accuracy: 0.7220\n",
      "Epoch 11/20\n",
      "100/100 [==============================] - 33s 330ms/step - loss: 0.5778 - accuracy: 0.6915 - val_loss: 0.5552 - val_accuracy: 0.7150\n",
      "Epoch 12/20\n",
      "100/100 [==============================] - 33s 327ms/step - loss: 0.5829 - accuracy: 0.6910 - val_loss: 0.5783 - val_accuracy: 0.6770\n",
      "Epoch 13/20\n",
      "100/100 [==============================] - 35s 352ms/step - loss: 0.5680 - accuracy: 0.6970 - val_loss: 0.5491 - val_accuracy: 0.7010\n",
      "Epoch 14/20\n",
      "100/100 [==============================] - 35s 349ms/step - loss: 0.5694 - accuracy: 0.6960 - val_loss: 0.5124 - val_accuracy: 0.7350\n",
      "Epoch 15/20\n",
      "100/100 [==============================] - 33s 326ms/step - loss: 0.5535 - accuracy: 0.7165 - val_loss: 0.5278 - val_accuracy: 0.7210\n",
      "Epoch 16/20\n",
      "100/100 [==============================] - 33s 325ms/step - loss: 0.5680 - accuracy: 0.6980 - val_loss: 0.5349 - val_accuracy: 0.7260\n",
      "Epoch 17/20\n",
      "100/100 [==============================] - 33s 325ms/step - loss: 0.5616 - accuracy: 0.7030 - val_loss: 0.5598 - val_accuracy: 0.7050\n",
      "Epoch 18/20\n",
      "100/100 [==============================] - 33s 326ms/step - loss: 0.5545 - accuracy: 0.7210 - val_loss: 0.5354 - val_accuracy: 0.7120\n",
      "Epoch 19/20\n",
      "100/100 [==============================] - 33s 326ms/step - loss: 0.5550 - accuracy: 0.7110 - val_loss: 0.5156 - val_accuracy: 0.7340\n",
      "Epoch 20/20\n",
      "100/100 [==============================] - 33s 326ms/step - loss: 0.5444 - accuracy: 0.7240 - val_loss: 0.5495 - val_accuracy: 0.7140\n"
     ]
    }
   ],
   "source": [
    "# Create new model\n",
    "model_for_aug = create_model()\n",
    "\n",
    "# This code has changed. Now instead of the ImageGenerator just rescaling\n",
    "# the image, we also rotate and do other operations\n",
    "train_datagen = ImageDataGenerator(\n",
    "      rescale=1./255,\n",
    "      rotation_range=40,\n",
    "      width_shift_range=0.2,\n",
    "      height_shift_range=0.2,\n",
    "      shear_range=0.2,\n",
    "      zoom_range=0.2,\n",
    "      horizontal_flip=True,\n",
    "      fill_mode='nearest')\n",
    "\n",
    "test_datagen = ImageDataGenerator(rescale=1./255)\n",
    "\n",
    "# Flow training images in batches of 20 using train_datagen generator\n",
    "train_generator = train_datagen.flow_from_directory(\n",
    "        train_dir,  # This is the source directory for training images\n",
    "        target_size=(150, 150),  # All images will be resized to 150x150\n",
    "        batch_size=20,\n",
    "        # Since we use binary_crossentropy loss, we need binary labels\n",
    "        class_mode='binary')\n",
    "\n",
    "# Flow validation images in batches of 20 using test_datagen generator\n",
    "validation_generator = test_datagen.flow_from_directory(\n",
    "        validation_dir,\n",
    "        target_size=(150, 150),\n",
    "        batch_size=20,\n",
    "        class_mode='binary')\n",
    "\n",
    "# Train the new model\n",
    "history_with_aug = model_for_aug.fit(\n",
    "      train_generator,\n",
    "      steps_per_epoch=100,  # 2000 images = batch_size * steps\n",
    "      epochs=EPOCHS,\n",
    "      validation_data=validation_generator,\n",
    "      validation_steps=50,  # 1000 images = batch_size * steps\n",
    "      verbose=1)"
   ]
  },
  {
   "cell_type": "code",
   "execution_count": 16,
   "id": "c357a980-d738-401d-8210-1a53a917df10",
   "metadata": {},
   "outputs": [
    {
     "data": {
      "image/png": "[encoded data removed]",
      "text/plain": [
       "<Figure size 432x288 with 1 Axes>"
      ]
     },
     "metadata": {
      "needs_background": "light"
     },
     "output_type": "display_data"
    },
    {
     "data": {
      "image/png": "[encoded data removed]",
      "text/plain": [
       "<Figure size 432x288 with 1 Axes>"
      ]
     },
     "metadata": {
      "needs_background": "light"
     },
     "output_type": "display_data"
    }
   ],
   "source": [
    "# Plot the results of training with data augmentation\n",
    "plot_loss_acc(history_with_aug)"
   ]
  },
  {
   "cell_type": "markdown",
   "id": "8927b45b-42b2-4b2d-92b1-2d703967c4eb",
   "metadata": {},
   "source": [
    "As you can see, the training accuracy has gone down compared to the baseline. This is expected because (as a result of data augmentation) there are more variety in the images so the model will need more runs to learn from them. The good thing is the validation accuracy is no longer stalling and is more in line with the training results. This means that the model is now performing better on unseen data."
   ]
  }
 ],
 "metadata": {
  "kernelspec": {
   "display_name": "Python 3 (ipykernel)",
   "language": "python",
   "name": "python3"
  },
  "language_info": {
   "codemirror_mode": {
    "name": "ipython",
    "version": 3
   },
   "file_extension": ".py",
   "mimetype": "text/x-python",
   "name": "python",
   "nbconvert_exporter": "python",
   "pygments_lexer": "ipython3",
   "version": "3.9.12"
  }
 },
 "nbformat": 4,
 "nbformat_minor": 5
}
