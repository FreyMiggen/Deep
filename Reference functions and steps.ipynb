{
 "cells": [
  {
   "cell_type": "markdown",
   "id": "2c0e3bea",
   "metadata": {
    "gradient": {
     "editing": false,
     "id": "2c0e3bea",
     "kernelId": ""
    }
   },
   "source": [
    "# Step 1: Intialize params and choose a model\n"
   ]
  },
  {
   "cell_type": "code",
   "execution_count": null,
   "id": "a872c6a6",
   "metadata": {
    "gradient": {
     "editing": false,
     "id": "a872c6a6",
     "kernelId": ""
    }
   },
   "outputs": [],
   "source": [
    "def init_params(size,std=1.0):\n",
    "    return (torch.randn(size)*std).requires_grad_()"
   ]
  },
  {
   "cell_type": "code",
   "execution_count": null,
   "id": "6c9d20b7",
   "metadata": {
    "gradient": {
     "editing": false,
     "id": "6c9d20b7",
     "kernelId": ""
    }
   },
   "outputs": [],
   "source": [
    "weights=init_params((28*28,1))\n",
    "bias=init_params(1)\n",
    "def linear1(train_x):\n",
    "    return train_x@weights+bias"
   ]
  },
  {
   "cell_type": "markdown",
   "id": "326fa80e",
   "metadata": {
    "gradient": {
     "editing": false,
     "id": "326fa80e",
     "kernelId": ""
    }
   },
   "source": [
    "# Step 2: Calculate the predictions, loss and gradients"
   ]
  },
  {
   "cell_type": "markdown",
   "id": "2fc945f2",
   "metadata": {
    "gradient": {
     "editing": false,
     "id": "2fc945f2",
     "kernelId": ""
    }
   },
   "source": [
    "Define a loss function to calculate how well the model is working (for machine to update params, not for human reading purpose)\n",
    "and a function to calculate the gradients based on loss function"
   ]
  },
  {
   "cell_type": "code",
   "execution_count": null,
   "id": "7fd380da",
   "metadata": {
    "gradient": {
     "editing": false,
     "id": "7fd380da",
     "kernelId": ""
    }
   },
   "outputs": [],
   "source": [
    "def mnist_loss(predictions,targets):\n",
    "    predictions=predictions.sigmoid()\n",
    "    return torch.where(targets==1,1-predictions,predictions).mean()\n",
    "\n",
    "def calc_grads(model,train_x,train_y):\n",
    "    preds=model(train_x)\n",
    "    loss=mnist_loss(preds,train_y)\n",
    "    loss.backward()\n",
    "# Here, m    "
   ]
  },
  {
   "cell_type": "markdown",
   "id": "237b874b",
   "metadata": {
    "gradient": {
     "editing": false,
     "id": "237b874b",
     "kernelId": ""
    }
   },
   "source": [
    "# Step 3: Step the gradients"
   ]
  },
  {
   "cell_type": "markdown",
   "id": "8108b27e",
   "metadata": {
    "gradient": {
     "editing": false,
     "id": "8108b27e",
     "kernelId": ""
    }
   },
   "source": [
    "We will include this in train_epoch function. In each epoch, we will divide data into smaller batches and load them to DataLoader."
   ]
  },
  {
   "cell_type": "code",
   "execution_count": null,
   "id": "e88d32e6",
   "metadata": {
    "gradient": {
     "editing": false,
     "id": "e88d32e6",
     "kernelId": ""
    }
   },
   "outputs": [],
   "source": [
    "dl = DataLoader(dset, batch_size=256)\n",
    "valid_dl=DataLoader(valid_dset, batch_size=256)"
   ]
  },
  {
   "cell_type": "code",
   "execution_count": null,
   "id": "cd3ddf9a",
   "metadata": {
    "gradient": {
     "editing": false,
     "id": "cd3ddf9a",
     "kernelId": ""
    }
   },
   "outputs": [],
   "source": [
    "def train_epoch(model,params,lr):\n",
    "    for xb,yb in dls:\n",
    "        calc_grad(model,xb,yb)\n",
    "        for p in params:\n",
    "            p.data-=p.grad.lr\n",
    "            p.grad.zero_()        "
   ]
  },
  {
   "cell_type": "markdown",
   "id": "c90f8da5",
   "metadata": {
    "gradient": {
     "editing": false,
     "id": "c90f8da5",
     "kernelId": ""
    }
   },
   "source": [
    "After training one epoch, let's see how good well model perform in the test set. We use batch_accuracy and validate_epoch to do that"
   ]
  },
  {
   "cell_type": "code",
   "execution_count": null,
   "id": "6ea1aea0",
   "metadata": {
    "gradient": {
     "editing": false,
     "id": "6ea1aea0",
     "kernelId": ""
    }
   },
   "outputs": [],
   "source": [
    "def batch_accuracy(xb,y_test):\n",
    "    preds=xb.sigmoid()\n",
    "    corrects=(preds>0.5).float()==train_y\n",
    "#if preds>0.5=> True.float()=1=> We are predicting that preds >0.5 is the image of 3\n",
    "#corrects presents how many predictions we get right using this assumption\n",
    "    return corrects.float().mean()"
   ]
  },
  {
   "cell_type": "code",
   "execution_count": null,
   "id": "e36e3f20",
   "metadata": {
    "gradient": {
     "id": "e36e3f20",
     "kernelId": ""
    }
   },
   "outputs": [],
   "source": [
    "def validata_epoch(model):\n",
    "    accs=[batch_accuracy(model(xb,yb)) for xb,yb in valid_ds]\n",
    "    return round(torch.stack(accs).mean().item(),4)"
   ]
  },
  {
   "cell_type": "markdown",
   "id": "ee0cb758",
   "metadata": {},
   "source": [
    "# Step 4: Repeat training process"
   ]
  },
  {
   "cell_type": "code",
   "execution_count": null,
   "id": "7b6d9726",
   "metadata": {
    "gradient": {
     "id": "7b6d9726",
     "kernelId": ""
    }
   },
   "outputs": [],
   "source": [
    "def train_model(model,epochs):\n",
    "    for i in range(epochs):\n",
    "        params=weights,bias\n",
    "        train_epoch(model,params,lr)\n",
    "        print(validate_epoch(model),end=\"\")"
   ]
  },
  {
   "cell_type": "markdown",
   "id": "10afa213",
   "metadata": {},
   "source": [
    "# --- A simpler version with built-in features from Fastai and Pytorch ---"
   ]
  },
  {
   "cell_type": "markdown",
   "id": "dfceb449",
   "metadata": {},
   "source": [
    "First, create dataset including both train and test dataset"
   ]
  },
  {
   "cell_type": "code",
   "execution_count": null,
   "id": "e325ed15",
   "metadata": {
    "gradient": {
     "id": "e325ed15",
     "kernelId": ""
    }
   },
   "outputs": [],
   "source": [
    "dls=DataLoaders(dl,valid_dl)"
   ]
  },
  {
   "cell_type": "code",
   "execution_count": null,
   "id": "313f1c6f",
   "metadata": {
    "gradient": {
     "id": "313f1c6f",
     "kernelId": ""
    }
   },
   "outputs": [],
   "source": [
    "learn=Leaner(dls,nn.Linear(28*28,1),opt_func=SDG,loss_func=mnis_loss,metrics=batch_accuracy)\n",
    "learn.fit(epochs,lr=lr)"
   ]
  },
  {
   "cell_type": "markdown",
   "id": "5ff0ddab",
   "metadata": {},
   "source": [
    "SDG, fit: provided by fastai"
   ]
  }
 ],
 "metadata": {
  "kernelspec": {
   "display_name": "Python 3 (ipykernel)",
   "language": "python",
   "name": "python3"
  },
  "language_info": {
   "codemirror_mode": {
    "name": "ipython",
    "version": 3
   },
   "file_extension": ".py",
   "mimetype": "text/x-python",
   "name": "python",
   "nbconvert_exporter": "python",
   "pygments_lexer": "ipython3",
   "version": "3.7.11"
  }
 },
 "nbformat": 4,
 "nbformat_minor": 5
}
